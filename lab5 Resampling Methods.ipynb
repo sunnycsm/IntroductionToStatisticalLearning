{
 "cells": [
  {
   "cell_type": "code",
   "execution_count": 1,
   "metadata": {},
   "outputs": [],
   "source": [
    "import pandas as pd\n",
    "import numpy as np\n",
    "import seaborn as sns\n",
    "import matplotlib.pyplot as plt\n",
    "pd.set_option('precision',2)\n",
    "pd.set_option('display.max_rows',12)\n",
    "pd.set_option('display.float_format','{:20,.2f}'.format)\n",
    "plt.style.use('seaborn')"
   ]
  },
  {
   "cell_type": "markdown",
   "metadata": {},
   "source": [
    "# 5.3.1The validation set approach"
   ]
  },
  {
   "cell_type": "code",
   "execution_count": 2,
   "metadata": {
    "scrolled": true
   },
   "outputs": [],
   "source": [
    "auto=pd.read_csv('/Users/appler/Desktop/ISLR/Auto.csv',na_values=['?'])\n",
    "auto.dropna(axis=0, inplace=True)\n",
    "\n",
    "auto.cylinders=auto.cylinders.astype('category')\n",
    "auto.name=auto.name.astype('category')\n",
    "\n",
    "auto.reset_index(inplace=True)\n",
    "\n",
    "auto.head()\n",
    "\n",
    "auto['horsepower_2']=np.power(auto['horsepower'],2)\n",
    "auto['horsepower_3']=np.power(auto['horsepower'],3)\n",
    "auto['horsepower_4']=np.power(auto['horsepower'],4)\n",
    "auto['horsepower_5']=np.power(auto['horsepower'],5)\n",
    "\n",
    "#polynomial feature using sklearn\n",
    "from sklearn.preprocessing import PolynomialFeatures\n",
    "pol=PolynomialFeatures(degree=5, interaction_only=False,include_bias=False)\n",
    "polf=pol.fit_transform(auto.loc[:,'horsepower'].values.reshape(-1,1))"
   ]
  },
  {
   "cell_type": "code",
   "execution_count": 3,
   "metadata": {},
   "outputs": [],
   "source": [
    "from sklearn.model_selection import train_test_split\n",
    "\n",
    "X, y = auto.loc[:,['horsepower','horsepower_2','horsepower_3']],auto.mpg\n",
    "\n",
    "X_train, X_test, y_train, y_test = train_test_split(X, y, test_size=0.5, random_state=42)"
   ]
  },
  {
   "cell_type": "code",
   "execution_count": 4,
   "metadata": {},
   "outputs": [
    {
     "name": "stdout",
     "output_type": "stream",
     "text": [
      "lm1MSE:  25.573878189684407\n",
      "lm2MSE:  22.218020050032855\n",
      "lm3MSE:  22.66767543553442\n"
     ]
    }
   ],
   "source": [
    "from sklearn.linear_model import LinearRegression\n",
    "from sklearn.metrics import mean_squared_error\n",
    "\n",
    "#ols model with intercept\n",
    "lm1=LinearRegression(fit_intercept=True)\n",
    "lm2=LinearRegression(fit_intercept=True)\n",
    "lm3=LinearRegression(fit_intercept=True)\n",
    "\n",
    "lm1_fit=lm1.fit(X_train.loc[:,'horsepower'].values.reshape(-1,1),y_train)\n",
    "lm2_fit=lm2.fit(X_train.loc[:,['horsepower','horsepower_2']],y_train)\n",
    "lm3_fit=lm3.fit(X_train.loc[:,['horsepower','horsepower_2','horsepower_3']],y_train)\n",
    "\n",
    "lm1_predict=lm1_fit.predict(X_test.loc[:,'horsepower'].values.reshape(-1,1))\n",
    "lm2_predict=lm2_fit.predict(X_test.loc[:,['horsepower','horsepower_2']])\n",
    "lm3_predict=lm3_fit.predict(X_test.loc[:,['horsepower','horsepower_2','horsepower_3']])\n",
    "\n",
    "print('lm1MSE: ',mean_squared_error(y_test,lm1_predict) )\n",
    "print('lm2MSE: ',mean_squared_error(y_test,lm2_predict) )\n",
    "print('lm3MSE: ',mean_squared_error(y_test,lm3_predict) )"
   ]
  },
  {
   "cell_type": "markdown",
   "metadata": {},
   "source": [
    "# 5.3.2 Leave-one-out cross-validation"
   ]
  },
  {
   "cell_type": "code",
   "execution_count": 5,
   "metadata": {},
   "outputs": [
    {
     "data": {
      "text/plain": [
       "392"
      ]
     },
     "execution_count": 5,
     "metadata": {},
     "output_type": "execute_result"
    }
   ],
   "source": [
    "from sklearn.model_selection import LeaveOneOut\n",
    "X,y=auto.loc[:,['horsepower','horsepower_2','horsepower_3','horsepower_4','horsepower_5']],auto.mpg\n",
    "loocv=LeaveOneOut()\n",
    "loocv.get_n_splits(X)"
   ]
  },
  {
   "cell_type": "code",
   "execution_count": 6,
   "metadata": {},
   "outputs": [
    {
     "data": {
      "text/plain": [
       "24.231513517929226"
      ]
     },
     "execution_count": 6,
     "metadata": {},
     "output_type": "execute_result"
    }
   ],
   "source": [
    "loocv_mse=[]\n",
    "lm=LinearRegression(fit_intercept=True)\n",
    "for train_index, test_index in loocv.split(X):\n",
    "    X_train, X_test = X.iloc[train_index],X.iloc[test_index]\n",
    "    y_train, y_test = y.iloc[train_index],y.iloc[test_index]\n",
    "    \n",
    "    lm1_fit = lm1.fit(X_train.loc[:,'horsepower'].values.reshape(-1,1),y_train)\n",
    "    lm1_predict=lm1_fit.predict(X_test.loc[:,'horsepower'].values.reshape(-1,1))\n",
    "    \n",
    "    loocv_mse.append(mean_squared_error(y_test, lm1_predict))\n",
    "np.array(loocv_mse).mean()"
   ]
  },
  {
   "cell_type": "code",
   "execution_count": 7,
   "metadata": {},
   "outputs": [
    {
     "data": {
      "text/plain": [
       "24.231513517929226"
      ]
     },
     "execution_count": 7,
     "metadata": {},
     "output_type": "execute_result"
    }
   ],
   "source": [
    "#using sklearn cross validation score\n",
    "from sklearn.model_selection import cross_val_score\n",
    "\n",
    "lm=LinearRegression(fit_intercept=True)\n",
    "\n",
    "cval=cross_val_score(lm,\n",
    "                    auto.loc[:,'horsepower'].values.reshape(-1,1),\n",
    "                    auto.mpg,\n",
    "                    cv=len(auto),\n",
    "                    n_jobs=1,\n",
    "                    scoring='neg_mean_squared_error')\n",
    "-cval.mean()"
   ]
  },
  {
   "cell_type": "code",
   "execution_count": 8,
   "metadata": {},
   "outputs": [],
   "source": [
    "#loop for 5 degree polynomial linear regression with LOOCV\n",
    "loocv_poly={}\n",
    "for i in range(1,6):\n",
    "    loocv_mse=[]\n",
    "    for train_index, test_index in loocv.split(X):\n",
    "        X_train, X_test = X.iloc[train_index], X.iloc[test_index]\n",
    "        y_train, y_test=y.iloc[train_index],y.iloc[test_index]\n",
    "        \n",
    "        if i==1:\n",
    "            X_TRAIN=X_train.iloc[:,0:1].values.reshape(-1,1)\n",
    "            X_TEST=X_test.iloc[:,0:1].values.reshape(-1,1)\n",
    "        else:\n",
    "            X_TRAIN =X_train.iloc[:,0:i]\n",
    "            X_TEST=X_test.iloc[:,0:i]\n",
    "            \n",
    "        loocv_mse.append(\n",
    "            mean_squared_error(\n",
    "            y_test,\n",
    "            LinearRegression(fit_intercept=True).fit(X_TRAIN,y_train).predict(X_TEST)\n",
    "            )\n",
    "        )\n",
    "        loocv_poly['lm'+str(i)+'_MSE']=np.array(loocv_mse).mean()"
   ]
  },
  {
   "cell_type": "code",
   "execution_count": 9,
   "metadata": {},
   "outputs": [
    {
     "data": {
      "text/plain": [
       "{'lm1_MSE': 24.231513517929226,\n",
       " 'lm2_MSE': 19.248213124489677,\n",
       " 'lm3_MSE': 19.334984064029175,\n",
       " 'lm4_MSE': 19.424430310525526,\n",
       " 'lm5_MSE': 19.033212804000605}"
      ]
     },
     "execution_count": 9,
     "metadata": {},
     "output_type": "execute_result"
    }
   ],
   "source": [
    "loocv_poly"
   ]
  },
  {
   "cell_type": "markdown",
   "metadata": {},
   "source": [
    "# 5.3.3 k-Fold Cross-Validation"
   ]
  },
  {
   "cell_type": "code",
   "execution_count": 10,
   "metadata": {},
   "outputs": [],
   "source": [
    "from sklearn.model_selection import KFold\n",
    "X,y = auto.loc[:,['horsepower','horsepower_2','horsepower_3','horsepower_4','horsepower_5']],auto.mpg\n",
    "kf = KFold(n_splits=10, shuffle=True, random_state=42)"
   ]
  },
  {
   "cell_type": "code",
   "execution_count": 13,
   "metadata": {},
   "outputs": [
    {
     "name": "stderr",
     "output_type": "stream",
     "text": [
      "<ipython-input-13-f8be7ca1e657>:24: RuntimeWarning: Mean of empty slice.\n",
      "  kf_poly['lm'+str(i)+'_MSE']=np.array(kf_mse).mean()\n",
      "/Users/appler/opt/anaconda3/lib/python3.8/site-packages/numpy/core/_methods.py:161: RuntimeWarning: invalid value encountered in double_scalars\n",
      "  ret = ret.dtype.type(ret / rcount)\n"
     ]
    }
   ],
   "source": [
    "#loop for 5 degree polynomial linear regressions with k-Fold CV\n",
    "kf_poly={}\n",
    "for i in range(1,6):\n",
    "    \n",
    "    kf_mse=[]\n",
    "    \n",
    "    for train_index, test_index in kf.split(X):\n",
    "        X_train, X_test = X.iloc[train_index], X.iloc[test_index]\n",
    "        y_train, y_test = y.iloc[train_index], y.iloc[test_index]\n",
    "        \n",
    "        if i==1:\n",
    "            X_TRAIN = X_train.iloc[:,0:1].values.reshape(-1,1)\n",
    "            X_TEST = X_test.iloc[:,0:1].values.reshape(-1,1)\n",
    "        else:\n",
    "            X_TRAIN = X_train.iloc[:,0:i]\n",
    "            X_TEST = X_test.iloc[:,0:i]\n",
    "            \n",
    "            kf_mse.append(\n",
    "            mean_squared_error(\n",
    "                y_test,\n",
    "                LinearRegression(fit_intercept=True).fit(X_TRAIN,y_train).predict(X_TEST)\n",
    "            )\n",
    "        )\n",
    "        kf_poly['lm'+str(i)+'_MSE']=np.array(kf_mse).mean()"
   ]
  },
  {
   "cell_type": "code",
   "execution_count": 14,
   "metadata": {},
   "outputs": [
    {
     "data": {
      "text/plain": [
       "{'lm1_MSE': nan,\n",
       " 'lm2_MSE': 19.22863661426802,\n",
       " 'lm3_MSE': 19.266265346631833,\n",
       " 'lm4_MSE': 19.351092272961104,\n",
       " 'lm5_MSE': 19.02323300932039}"
      ]
     },
     "execution_count": 14,
     "metadata": {},
     "output_type": "execute_result"
    }
   ],
   "source": [
    "kf_poly"
   ]
  },
  {
   "cell_type": "markdown",
   "metadata": {},
   "source": [
    "# 5.3.4 The Bootstrap"
   ]
  },
  {
   "cell_type": "code",
   "execution_count": 15,
   "metadata": {},
   "outputs": [],
   "source": [
    "portfolio = pd.read_csv('/Users/appler/Desktop/ISLR/Portfolio.csv', index_col=0)"
   ]
  },
  {
   "cell_type": "code",
   "execution_count": 16,
   "metadata": {},
   "outputs": [],
   "source": [
    "def alpha_fn(data,start_index, end_index):\n",
    "    X = data['X'][start_index:end_index]\n",
    "    Y = data['Y'][start_index:end_index]\n",
    "    return ((np.var(Y)-np.cov(X,Y)[0][1])/(np.var(X) + np.var(Y) - 2*np.cov(X,Y)[0][1]))"
   ]
  },
  {
   "cell_type": "code",
   "execution_count": 17,
   "metadata": {},
   "outputs": [
    {
     "data": {
      "text/plain": [
       "0.5766511516104118"
      ]
     },
     "execution_count": 17,
     "metadata": {},
     "output_type": "execute_result"
    }
   ],
   "source": [
    "alpha_fn(portfolio,0,100)"
   ]
  },
  {
   "cell_type": "code",
   "execution_count": 18,
   "metadata": {},
   "outputs": [
    {
     "data": {
      "text/plain": [
       "0.5245368083555041"
      ]
     },
     "execution_count": 18,
     "metadata": {},
     "output_type": "execute_result"
    }
   ],
   "source": [
    "from sklearn.utils import resample\n",
    "\n",
    "portfolio_bs = resample(portfolio, replace = True, n_samples=100)\n",
    "\n",
    "alpha_fn(portfolio_bs,0,100)"
   ]
  },
  {
   "cell_type": "code",
   "execution_count": 19,
   "metadata": {},
   "outputs": [
    {
     "name": "stdout",
     "output_type": "stream",
     "text": [
      "bootstrapped alpha 0.5774233905417901\n",
      "SE:  0.0948054580067531\n"
     ]
    }
   ],
   "source": [
    "bs_alpha= []\n",
    "for i in range(0,1000):\n",
    "    bs_alpha.append(\n",
    "        alpha_fn(resample(portfolio, replace = True, n_samples=100),0,100)\n",
    "    )\n",
    "bs_alpha = np.array(bs_alpha)\n",
    "\n",
    "print('bootstrapped alpha',bs_alpha.mean())\n",
    "print('SE: ',bs_alpha.std())"
   ]
  },
  {
   "cell_type": "markdown",
   "metadata": {},
   "source": [
    "Estimating the accuracy of a linear regression model"
   ]
  },
  {
   "cell_type": "code",
   "execution_count": 22,
   "metadata": {},
   "outputs": [
    {
     "data": {
      "text/plain": [
       "(39.93586102117047, array([-0.15784473]))"
      ]
     },
     "execution_count": 22,
     "metadata": {},
     "output_type": "execute_result"
    }
   ],
   "source": [
    "def boot_fn(data, start_index, end_index):\n",
    "    m = LinearRegression(fit_intercept = True).fit(\n",
    "        data['horsepower'][start_index:end_index].values.reshape(-1,1),\n",
    "        data['mpg'][start_index:end_index]\n",
    "    )\n",
    "    return m.intercept_,m.coef_\n",
    "boot_fn(auto,0,392)"
   ]
  },
  {
   "cell_type": "code",
   "execution_count": 24,
   "metadata": {
    "scrolled": true
   },
   "outputs": [
    {
     "data": {
      "text/plain": [
       "(40.94695039391151, array([-0.16728678]))"
      ]
     },
     "execution_count": 24,
     "metadata": {},
     "output_type": "execute_result"
    }
   ],
   "source": [
    "boot_fn(resample(auto,replace = True, n_samples = 392),0,392)"
   ]
  },
  {
   "cell_type": "markdown",
   "metadata": {},
   "source": [
    "样本总数为392个，在这个样本里做1000次有放回抽样"
   ]
  },
  {
   "cell_type": "code",
   "execution_count": 25,
   "metadata": {},
   "outputs": [
    {
     "name": "stdout",
     "output_type": "stream",
     "text": [
      "t1 bs estimate& se:  39.98169071195402 0.872921727220275\n",
      "t2 bs estimate& se:  -0.15826754940957563 0.007288418525152462\n"
     ]
    }
   ],
   "source": [
    "bs_boot = {'t1':[],'t2':[]}\n",
    "\n",
    "for i in range(0,1000):\n",
    "    bs_boot['t1'].append(\n",
    "        boot_fn(resample(auto,replace = True, n_samples=392),0,392)[0])\n",
    "    bs_boot['t2'].append(\n",
    "        boot_fn(resample(auto,replace = True, n_samples=392),0,392)[1][0])\n",
    "    \n",
    "t1_es = np.array(bs_boot['t1']).mean()\n",
    "t1_se = np.array(bs_boot['t1']).std()\n",
    "t2_es = np.array(bs_boot['t2']).mean()\n",
    "t2_se = np.array(bs_boot['t2']).std()\n",
    "\n",
    "print('t1 bs estimate& se: ', t1_es, t1_se)\n",
    "print('t2 bs estimate& se: ', t2_es, t2_se)"
   ]
  },
  {
   "cell_type": "code",
   "execution_count": 27,
   "metadata": {},
   "outputs": [
    {
     "data": {
      "text/html": [
       "<table class=\"simpletable\">\n",
       "<tr>\n",
       "       <td></td>         <th>coef</th>     <th>std err</th>      <th>t</th>      <th>P>|t|</th>  <th>[0.025</th>    <th>0.975]</th>  \n",
       "</tr>\n",
       "<tr>\n",
       "  <th>Intercept</th>  <td>   39.9359</td> <td>    0.717</td> <td>   55.660</td> <td> 0.000</td> <td>   38.525</td> <td>   41.347</td>\n",
       "</tr>\n",
       "<tr>\n",
       "  <th>horsepower</th> <td>   -0.1578</td> <td>    0.006</td> <td>  -24.489</td> <td> 0.000</td> <td>   -0.171</td> <td>   -0.145</td>\n",
       "</tr>\n",
       "</table>"
      ],
      "text/plain": [
       "<class 'statsmodels.iolib.table.SimpleTable'>"
      ]
     },
     "execution_count": 27,
     "metadata": {},
     "output_type": "execute_result"
    }
   ],
   "source": [
    "import statsmodels.formula.api as sm\n",
    "\n",
    "ols = sm.ols('mpg~horsepower',data = auto).fit()\n",
    "ols.summary().tables[1]"
   ]
  },
  {
   "cell_type": "code",
   "execution_count": 29,
   "metadata": {},
   "outputs": [],
   "source": [
    "def boot_fn2(data, start_index, end_index):\n",
    "    m = LinearRegression(fit_intercept=True).fit(\n",
    "        data[['horsepower','horsepower_2']][start_index:end_index],\n",
    "        data['mpg'][start_index:end_index]\n",
    "    )\n",
    "    return m.intercept_, m.coef_"
   ]
  },
  {
   "cell_type": "code",
   "execution_count": 30,
   "metadata": {},
   "outputs": [
    {
     "name": "stdout",
     "output_type": "stream",
     "text": [
      "t1 bs estimate & se:  56.91558432635554 2.1416896988961427\n",
      "t2 bs estimate & se:  -0.4671853498057522 0.03316890471403853\n",
      "t3 bs estimate & se:  0.0012339118928912038 0.00012027747588910358\n"
     ]
    }
   ],
   "source": [
    "bs_boot2={'t1':[],'t2':[],'t3':[]}\n",
    "for i in range(0,10000):\n",
    "    bs_boot2['t1'].append(\n",
    "        boot_fn2(resample(auto,replace=True, n_samples=392),0,392)[0])\n",
    "    bs_boot2['t2'].append(\n",
    "        boot_fn2(resample(auto,replace=True, n_samples=392),0,392)[1][0])\n",
    "    bs_boot2['t3'].append(\n",
    "        boot_fn2(resample(auto,replace=True, n_samples=392),0,392)[1][1])\n",
    "    \n",
    "t1_es=np.array(bs_boot2['t1']).mean()\n",
    "t1_se=np.array(bs_boot2['t1']).std()\n",
    "t2_es=np.array(bs_boot2['t2']).mean()\n",
    "t2_se=np.array(bs_boot2['t2']).std()\n",
    "t3_es=np.array(bs_boot2['t3']).mean()\n",
    "t3_se=np.array(bs_boot2['t3']).std()                \n",
    "        \n",
    "print('t1 bs estimate & se: ',t1_es, t1_se)\n",
    "print('t2 bs estimate & se: ',t2_es, t2_se)\n",
    "print('t3 bs estimate & se: ',t3_es, t3_se)"
   ]
  },
  {
   "cell_type": "code",
   "execution_count": 31,
   "metadata": {},
   "outputs": [
    {
     "data": {
      "text/html": [
       "<table class=\"simpletable\">\n",
       "<tr>\n",
       "        <td></td>          <th>coef</th>     <th>std err</th>      <th>t</th>      <th>P>|t|</th>  <th>[0.025</th>    <th>0.975]</th>  \n",
       "</tr>\n",
       "<tr>\n",
       "  <th>Intercept</th>    <td>   56.9001</td> <td>    1.800</td> <td>   31.604</td> <td> 0.000</td> <td>   53.360</td> <td>   60.440</td>\n",
       "</tr>\n",
       "<tr>\n",
       "  <th>horsepower</th>   <td>   -0.4662</td> <td>    0.031</td> <td>  -14.978</td> <td> 0.000</td> <td>   -0.527</td> <td>   -0.405</td>\n",
       "</tr>\n",
       "<tr>\n",
       "  <th>horsepower_2</th> <td>    0.0012</td> <td>    0.000</td> <td>   10.080</td> <td> 0.000</td> <td>    0.001</td> <td>    0.001</td>\n",
       "</tr>\n",
       "</table>"
      ],
      "text/plain": [
       "<class 'statsmodels.iolib.table.SimpleTable'>"
      ]
     },
     "execution_count": 31,
     "metadata": {},
     "output_type": "execute_result"
    }
   ],
   "source": [
    "import statsmodels.formula.api as sm\n",
    "\n",
    "ols2 = sm.ols('mpg ~ horsepower + horsepower_2',data = auto).fit()\n",
    "ols2.summary().tables[1]"
   ]
  },
  {
   "cell_type": "code",
   "execution_count": null,
   "metadata": {},
   "outputs": [],
   "source": []
  },
  {
   "cell_type": "code",
   "execution_count": null,
   "metadata": {},
   "outputs": [],
   "source": []
  },
  {
   "cell_type": "code",
   "execution_count": null,
   "metadata": {},
   "outputs": [],
   "source": []
  }
 ],
 "metadata": {
  "kernelspec": {
   "display_name": "Python 3",
   "language": "python",
   "name": "python3"
  },
  "language_info": {
   "codemirror_mode": {
    "name": "ipython",
    "version": 3
   },
   "file_extension": ".py",
   "mimetype": "text/x-python",
   "name": "python",
   "nbconvert_exporter": "python",
   "pygments_lexer": "ipython3",
   "version": "3.8.3"
  }
 },
 "nbformat": 4,
 "nbformat_minor": 4
}
